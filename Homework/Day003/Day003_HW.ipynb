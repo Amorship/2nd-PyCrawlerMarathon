{
 "cells": [
  {
   "cell_type": "markdown",
   "metadata": {},
   "source": [
    "# Python 下載XML檔案與解析\n",
    "\n",
    "\n",
    "* 了解 xml 檔案格式與內容\n",
    "* 能夠利用套件存取 xml 格式的檔案\n"
   ]
  },
  {
   "cell_type": "markdown",
   "metadata": {},
   "source": [
    "## 作業目標\n",
    "\n",
    "* 比較一下範例檔案中的「File I/O」與「xmltodict」讀出來的內容有什麼差異\n",
    "\n",
    "* 根據範例檔案的結果：\n",
    "    1. 請問高雄市有多少地區有溫度資料？\n",
    "    2. 請取出每一個地區所記錄的第一個時間點跟溫度\n",
    "    3. 請取出第一個地區所記錄的每一個時間點跟溫度"
   ]
  },
  {
   "cell_type": "markdown",
   "metadata": {},
   "source": [
    "### 比較一下範例檔案中的「File I/O」與「xmltodict」讀出來的內容有什麼差異\n"
   ]
  },
  {
   "cell_type": "code",
   "execution_count": 44,
   "metadata": {},
   "outputs": [
    {
     "name": "stdout",
     "output_type": "stream",
     "text": [
      "<?xml version=\"1.0\" encoding=\"UTF-8\"?>\n",
      "<CUPOY>\n",
      "    <Title>爬蟲馬拉松</Title>\n",
      "    <Author>Wei</Author>\n",
      "    <Chapters>\n",
      "        <Chapter name=\"01\">資料來源與存取</Chapter>\n",
      "        <Chapter name=\"02\">靜態網頁爬蟲</Chapter>\n",
      "        <Chapter name=\"03\">動態網頁爬蟲</Chapter>\n",
      "    </Chapters>\n",
      "</CUPOY>\n"
     ]
    }
   ],
   "source": [
    "# File I/O\n",
    "\n",
    "with open('./example/sample.xml', newline = '', encoding = 'utf-8-sig') as p:\n",
    "    print(p.read())"
   ]
  },
  {
   "cell_type": "code",
   "execution_count": 45,
   "metadata": {},
   "outputs": [
    {
     "name": "stdout",
     "output_type": "stream",
     "text": [
      "{'CUPOY': OrderedDict([('Title', '爬蟲馬拉松'), ('Author', 'Wei'), ('Chapters', OrderedDict([('Chapter', [OrderedDict([('@name', '01'), ('#text', '資料來源與存取')]), OrderedDict([('@name', '02'), ('#text', '靜態網頁爬蟲')]), OrderedDict([('@name', '03'), ('#text', '動態網頁爬蟲')])])]))])}\n",
      "\n",
      "爬蟲馬拉松\n",
      "01 資料來源與存取\n",
      "02 靜態網頁爬蟲\n",
      "03 動態網頁爬蟲\n"
     ]
    }
   ],
   "source": [
    "# XMLtodict\n",
    "\n",
    "import xmltodict\n",
    "\n",
    "with open('./example/sample.xml', newline = '', encoding = 'utf-8-sig') as c:\n",
    "    doc = dict(xmltodict.parse(c.read()))\n",
    "print(doc)\n",
    "print()\n",
    "\n",
    "#印出想要的標題\n",
    "print(doc['CUPOY']['Title'])\n",
    "#利用迴圈印出想要的內容\n",
    "chapters = doc['CUPOY']['Chapters']['Chapter']\n",
    "for chapter in chapters:\n",
    "    print(chapter['@name'], chapter['#text'])"
   ]
  },
  {
   "cell_type": "markdown",
   "metadata": {},
   "source": [
    "### 根據範例檔案的結果：\n",
    "\n",
    "1. 請問高雄市有多少地區有溫度資料？\n",
    "2. 請取出每一個地區所記錄的第一個時間點跟溫度\n",
    "3. 請取出第一個地區所記錄的每一個時間點跟溫度"
   ]
  },
  {
   "cell_type": "code",
   "execution_count": 46,
   "metadata": {},
   "outputs": [
    {
     "name": "stdout",
     "output_type": "stream",
     "text": [
      "64_72hr_CH.xml\n",
      "64_Week24_CH.xml\n",
      "64_Weekday_CH.xml\n"
     ]
    }
   ],
   "source": [
    "import os\n",
    "\n",
    "weather = os.listdir('./example/')\n",
    "\n",
    "# 找尋資料夾中為中文的檔案名稱\n",
    "weather_CH = [weather for weather in weather if 'CH' in weather ]\n",
    "# 解析文件中有高雄市的檔案名稱\n",
    "for file_name in weather_CH:\n",
    "    with open('./example/'+file_name,'r',encoding='utf-8-sig') as f:\n",
    "        hello = dict(xmltodict.parse(f.read()))\n",
    "# 可以透過.keys()的方式逐層找到高雄市\n",
    "# print(hello['cwbopendata']['dataset'].keys())\n",
    "        city = hello['cwbopendata']['dataset']['locations']['locationsName']\n",
    "        if '高雄市' in city:\n",
    "            print(file_name)        \n",
    "        \n"
   ]
  },
  {
   "cell_type": "code",
   "execution_count": 47,
   "metadata": {},
   "outputs": [
    {
     "name": "stdout",
     "output_type": "stream",
     "text": [
      "高雄市有 38 個地區有溫度資料\n"
     ]
    }
   ],
   "source": [
    "# 1. 請問高雄市有多少地區有溫度資料？\n",
    "\n",
    "with open('./example/64_72hr_CH.xml','r',encoding='utf-8-sig') as f:\n",
    "    content  = dict(xmltodict.parse((f.read())))\n",
    "\n",
    "#透過.keys()的方式逐層找到高雄市\n",
    "dist_count = len(content['cwbopendata']['dataset']['locations']['location'])\n",
    "print('高雄市有',dist_count,'個地區有溫度資料')"
   ]
  },
  {
   "cell_type": "code",
   "execution_count": 48,
   "metadata": {},
   "outputs": [
    {
     "name": "stdout",
     "output_type": "stream",
     "text": [
      "鹽埕區, 測量的第一個時間點『12:00』, 測量的第一個溫度『33』攝氏溫度\n",
      "鼓山區, 測量的第一個時間點『12:00』, 測量的第一個溫度『33』攝氏溫度\n",
      "左營區, 測量的第一個時間點『12:00』, 測量的第一個溫度『33』攝氏溫度\n",
      "楠梓區, 測量的第一個時間點『12:00』, 測量的第一個溫度『34』攝氏溫度\n",
      "三民區, 測量的第一個時間點『12:00』, 測量的第一個溫度『32』攝氏溫度\n",
      "新興區, 測量的第一個時間點『12:00』, 測量的第一個溫度『33』攝氏溫度\n",
      "前金區, 測量的第一個時間點『12:00』, 測量的第一個溫度『33』攝氏溫度\n",
      "苓雅區, 測量的第一個時間點『12:00』, 測量的第一個溫度『33』攝氏溫度\n",
      "前鎮區, 測量的第一個時間點『12:00』, 測量的第一個溫度『33』攝氏溫度\n",
      "旗津區, 測量的第一個時間點『12:00』, 測量的第一個溫度『32』攝氏溫度\n",
      "小港區, 測量的第一個時間點『12:00』, 測量的第一個溫度『33』攝氏溫度\n",
      "鳳山區, 測量的第一個時間點『12:00』, 測量的第一個溫度『34』攝氏溫度\n",
      "林園區, 測量的第一個時間點『12:00』, 測量的第一個溫度『33』攝氏溫度\n",
      "大寮區, 測量的第一個時間點『12:00』, 測量的第一個溫度『34』攝氏溫度\n",
      "大樹區, 測量的第一個時間點『12:00』, 測量的第一個溫度『34』攝氏溫度\n",
      "大社區, 測量的第一個時間點『12:00』, 測量的第一個溫度『34』攝氏溫度\n",
      "仁武區, 測量的第一個時間點『12:00』, 測量的第一個溫度『33』攝氏溫度\n",
      "鳥松區, 測量的第一個時間點『12:00』, 測量的第一個溫度『34』攝氏溫度\n",
      "岡山區, 測量的第一個時間點『12:00』, 測量的第一個溫度『34』攝氏溫度\n",
      "橋頭區, 測量的第一個時間點『12:00』, 測量的第一個溫度『35』攝氏溫度\n",
      "燕巢區, 測量的第一個時間點『12:00』, 測量的第一個溫度『34』攝氏溫度\n",
      "田寮區, 測量的第一個時間點『12:00』, 測量的第一個溫度『34』攝氏溫度\n",
      "阿蓮區, 測量的第一個時間點『12:00』, 測量的第一個溫度『34』攝氏溫度\n",
      "路竹區, 測量的第一個時間點『12:00』, 測量的第一個溫度『33』攝氏溫度\n",
      "湖內區, 測量的第一個時間點『12:00』, 測量的第一個溫度『33』攝氏溫度\n",
      "茄萣區, 測量的第一個時間點『12:00』, 測量的第一個溫度『33』攝氏溫度\n",
      "永安區, 測量的第一個時間點『12:00』, 測量的第一個溫度『32』攝氏溫度\n",
      "彌陀區, 測量的第一個時間點『12:00』, 測量的第一個溫度『32』攝氏溫度\n",
      "梓官區, 測量的第一個時間點『12:00』, 測量的第一個溫度『32』攝氏溫度\n",
      "旗山區, 測量的第一個時間點『12:00』, 測量的第一個溫度『34』攝氏溫度\n",
      "美濃區, 測量的第一個時間點『12:00』, 測量的第一個溫度『34』攝氏溫度\n",
      "六龜區, 測量的第一個時間點『12:00』, 測量的第一個溫度『34』攝氏溫度\n",
      "甲仙區, 測量的第一個時間點『12:00』, 測量的第一個溫度『33』攝氏溫度\n",
      "杉林區, 測量的第一個時間點『12:00』, 測量的第一個溫度『36』攝氏溫度\n",
      "內門區, 測量的第一個時間點『12:00』, 測量的第一個溫度『34』攝氏溫度\n",
      "茂林區, 測量的第一個時間點『12:00』, 測量的第一個溫度『34』攝氏溫度\n",
      "桃源區, 測量的第一個時間點『12:00』, 測量的第一個溫度『31』攝氏溫度\n",
      "那瑪夏區, 測量的第一個時間點『12:00』, 測量的第一個溫度『29』攝氏溫度\n"
     ]
    }
   ],
   "source": [
    "# 2. 請取出每一個地區所記錄的第一個時間點跟溫度\n",
    "\n",
    "# dist_of_city 城市\n",
    "# first_time 測量的第一個時間點\n",
    "# temperature 溫度\n",
    "\n",
    "for i in range(dist_count):\n",
    "    dist_of_city = content['cwbopendata']['dataset']['locations']['location'][i]['locationName']\n",
    "    first_time = content['cwbopendata']['dataset']['locations']['location'][i]['weatherElement'][0]['time'][0]['dataTime']\n",
    "    temperature = content['cwbopendata']['dataset']['locations']['location'][i]['weatherElement'][0]['time'][0]['elementValue']['value']\n",
    "    print(dist_of_city+',', '測量的第一個時間點'+'『'+first_time[11:16]+'』'+',', '測量的第一個溫度''『'+temperature+'』'+'攝氏溫度')"
   ]
  },
  {
   "cell_type": "code",
   "execution_count": 53,
   "metadata": {},
   "outputs": [
    {
     "name": "stdout",
     "output_type": "stream",
     "text": [
      "鹽埕區\n",
      "12:00 33 度\n",
      "15:00 33 度\n",
      "18:00 32 度\n",
      "21:00 30 度\n",
      "00:00 30 度\n",
      "03:00 29 度\n",
      "06:00 28 度\n",
      "09:00 31 度\n",
      "12:00 32 度\n",
      "15:00 32 度\n",
      "18:00 31 度\n",
      "21:00 30 度\n",
      "00:00 29 度\n",
      "03:00 28 度\n",
      "06:00 28 度\n",
      "09:00 31 度\n",
      "12:00 32 度\n",
      "15:00 32 度\n",
      "18:00 31 度\n",
      "21:00 30 度\n",
      "00:00 29 度\n",
      "03:00 29 度\n",
      "06:00 28 度\n",
      "09:00 31 度\n"
     ]
    }
   ],
   "source": [
    "# 3. 請取出第一個地區所記錄的每一個時間點跟溫度\n",
    "\n",
    "dist_of_city = content['cwbopendata']['dataset']['locations']['location'][0]['locationName']\n",
    "time_step = len(content['cwbopendata']['dataset']['locations']['location'][0]['weatherElement'][0]['time'])\n",
    "\n",
    "print(dist_of_city)\n",
    "for i in range(time_step):\n",
    "    time = content['cwbopendata']['dataset']['locations']['location'][0]['weatherElement'][0]['time'][i]['dataTime'][11:16]\n",
    "    temperature = content['cwbopendata']['dataset']['locations']['location'][0]['weatherElement'][0]['time'][i]['elementValue']['value']\n",
    "    print(time,temperature,'度')"
   ]
  },
  {
   "cell_type": "code",
   "execution_count": null,
   "metadata": {},
   "outputs": [],
   "source": []
  }
 ],
 "metadata": {
  "kernelspec": {
   "display_name": "Python 3",
   "language": "python",
   "name": "python3"
  },
  "language_info": {
   "codemirror_mode": {
    "name": "ipython",
    "version": 3
   },
   "file_extension": ".py",
   "mimetype": "text/x-python",
   "name": "python",
   "nbconvert_exporter": "python",
   "pygments_lexer": "ipython3",
   "version": "3.7.3"
  }
 },
 "nbformat": 4,
 "nbformat_minor": 2
}
